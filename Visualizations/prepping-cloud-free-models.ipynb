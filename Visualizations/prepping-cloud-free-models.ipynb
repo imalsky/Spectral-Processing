{
 "cells": [
  {
   "cell_type": "code",
   "execution_count": 14,
   "metadata": {},
   "outputs": [],
   "source": [
    "import pandas as pd\n",
    "import numpy as np"
   ]
  },
  {
   "cell_type": "code",
   "execution_count": 15,
   "metadata": {},
   "outputs": [
    {
     "name": "stderr",
     "output_type": "stream",
     "text": [
      "/home/imalsky/anaconda3/lib/python3.7/site-packages/numpy/lib/arraysetops.py:569: FutureWarning: elementwise comparison failed; returning scalar instead, but in the future will perform elementwise comparison\n",
      "  mask |= (ar1 == a)\n"
     ]
    },
    {
     "name": "stdout",
     "output_type": "stream",
     "text": [
      "            lat     lon  level        alt    pres    temp       u       v  \\\n",
      "0        87.159    0.00    1.0  3737200.0   0.000     0.0   0.000   0.000   \n",
      "1        87.159    0.00    2.0  3722400.0   0.000     0.0   0.000   0.000   \n",
      "2        87.159    0.00    3.0  3707600.0   0.000     0.0   0.000   0.000   \n",
      "3        87.159    0.00    4.0  3692800.0   0.000     0.0   0.000   0.000   \n",
      "4        87.159    0.00    5.0  3678000.0   0.000     0.0   0.000   0.000   \n",
      "...         ...     ...    ...        ...     ...     ...     ...     ...   \n",
      "1151995 -87.159  356.25  246.0   114350.0  71.963  2399.1 -24.020 -47.390   \n",
      "1151996 -87.159  356.25  247.0    99566.0  75.109  2413.7 -24.786 -49.350   \n",
      "1151997 -87.159  356.25  248.0    84779.0  78.391  2428.4 -25.552 -51.309   \n",
      "1151998 -87.159  356.25  249.0    69992.0  81.817  2443.0 -26.318 -53.268   \n",
      "1151999 -87.159  356.25  250.0    55205.0  85.393  2457.7 -27.085 -55.228   \n",
      "\n",
      "              w  aero_sw_tau_1  ...  sw_pi0_1  aero_sw_tau_2  aero_sw_tau_3  \\\n",
      "0        0.0000            0.0  ...       0.0            0.0            0.0   \n",
      "1        0.0000            0.0  ...       0.0            0.0            0.0   \n",
      "2        0.0000            0.0  ...       0.0            0.0            0.0   \n",
      "3        0.0000            0.0  ...       0.0            0.0            0.0   \n",
      "4        0.0000            0.0  ...       0.0            0.0            0.0   \n",
      "...         ...            ...  ...       ...            ...            ...   \n",
      "1151995  4.5745            0.0  ...       0.0            0.0            0.0   \n",
      "1151996  4.5701            0.0  ...       0.0            0.0            0.0   \n",
      "1151997  4.5656            0.0  ...       0.0            0.0            0.0   \n",
      "1151998  4.5612            0.0  ...       0.0            0.0            0.0   \n",
      "1151999  4.5568            0.0  ...       0.0            0.0            0.0   \n",
      "\n",
      "         aero_sw_tau_4  sw_asym_2  sw_asym_3  sw_asym_4  sw_pi0_2  sw_pi0_3  \\\n",
      "0                  0.0        0.0        0.0        0.0       0.0       0.0   \n",
      "1                  0.0        0.0        0.0        0.0       0.0       0.0   \n",
      "2                  0.0        0.0        0.0        0.0       0.0       0.0   \n",
      "3                  0.0        0.0        0.0        0.0       0.0       0.0   \n",
      "4                  0.0        0.0        0.0        0.0       0.0       0.0   \n",
      "...                ...        ...        ...        ...       ...       ...   \n",
      "1151995            0.0        0.0        0.0        0.0       0.0       0.0   \n",
      "1151996            0.0        0.0        0.0        0.0       0.0       0.0   \n",
      "1151997            0.0        0.0        0.0        0.0       0.0       0.0   \n",
      "1151998            0.0        0.0        0.0        0.0       0.0       0.0   \n",
      "1151999            0.0        0.0        0.0        0.0       0.0       0.0   \n",
      "\n",
      "         sw_pi0_4  \n",
      "0             0.0  \n",
      "1             0.0  \n",
      "2             0.0  \n",
      "3             0.0  \n",
      "4             0.0  \n",
      "...           ...  \n",
      "1151995       0.0  \n",
      "1151996       0.0  \n",
      "1151997       0.0  \n",
      "1151998       0.0  \n",
      "1151999       0.0  \n",
      "\n",
      "[1152000 rows x 21 columns]\n"
     ]
    }
   ],
   "source": [
    "planet_file = '/home/imalsky/Desktop/UPS-BIG-G-CLEAR-250.txt'\n",
    "\n",
    "\n",
    "\n",
    "\n",
    "df = pd.read_csv(planet_file,\n",
    "                 delimiter=r\"\\s+\",\n",
    "                 names=('lat', 'lon', 'level',\n",
    "                        'alt','pres','temp',\n",
    "                        'u', 'v', 'w',\n",
    "                        'aero_sw_tau_1', 'sw_asym_1', 'sw_pi0_1'),\n",
    "                        low_memory=False,\n",
    "                        index_col='lat')\n",
    "df['aero_sw_tau_2'] = 0.0\n",
    "df['aero_sw_tau_3'] = 0.0\n",
    "df['aero_sw_tau_4'] = 0.0\n",
    "\n",
    "df['sw_asym_2'] = 0.0\n",
    "df['sw_asym_3'] = 0.0\n",
    "df['sw_asym_4'] = 0.0\n",
    "\n",
    "df['sw_pi0_2'] = 0.0\n",
    "df['sw_pi0_3'] = 0.0\n",
    "df['sw_pi0_4'] = 0.0\n",
    "\n",
    "\n",
    "df = df.reset_index()\n",
    "print (df)"
   ]
  },
  {
   "cell_type": "code",
   "execution_count": 16,
   "metadata": {},
   "outputs": [],
   "source": [
    "np.savetxt('/home/imalsky/Desktop/UPS-BIG-G-CLEAR-redo.txt', df.values,\n",
    "           fmt='%12.4E  %12.4E  %12.4E  %12.4E  %12.4E  %12.4E  %12.4E  %12.4E  %12.4E  %12.4E  %12.4E  %12.4E  %12.4E  %12.4E  %12.4E  %12.4E  %12.4E  %12.4E  %12.4E  %12.4E  %12.4E\\t')\n",
    "\n",
    "\n",
    "\n"
   ]
  },
  {
   "cell_type": "code",
   "execution_count": null,
   "metadata": {},
   "outputs": [],
   "source": []
  }
 ],
 "metadata": {
  "kernelspec": {
   "display_name": "Python 3",
   "language": "python",
   "name": "python3"
  },
  "language_info": {
   "codemirror_mode": {
    "name": "ipython",
    "version": 3
   },
   "file_extension": ".py",
   "mimetype": "text/x-python",
   "name": "python",
   "nbconvert_exporter": "python",
   "pygments_lexer": "ipython3",
   "version": "3.7.6"
  }
 },
 "nbformat": 4,
 "nbformat_minor": 4
}
